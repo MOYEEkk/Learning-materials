{
 "cells": [
  {
   "cell_type": "markdown",
   "metadata": {},
   "source": [
    "# 一、ndarray\n",
    "## 1. ndarray特性\n",
    "### 多维性"
   ]
  },
  {
   "cell_type": "code",
   "execution_count": 2,
   "metadata": {},
   "outputs": [],
   "source": [
    "import numpy as np"
   ]
  },
  {
   "cell_type": "code",
   "execution_count": 3,
   "metadata": {},
   "outputs": [
    {
     "name": "stdout",
     "output_type": "stream",
     "text": [
      "5\n",
      "维度 0\n"
     ]
    }
   ],
   "source": [
    "arr = np.array(5)\n",
    "print(arr)\n",
    "print('维度', arr.ndim)"
   ]
  },
  {
   "cell_type": "code",
   "execution_count": 4,
   "metadata": {},
   "outputs": [
    {
     "name": "stdout",
     "output_type": "stream",
     "text": [
      "[1 2 3]\n",
      "维度 1\n"
     ]
    }
   ],
   "source": [
    "arr = np.array([1, 2, 3])\n",
    "print(arr)\n",
    "print('维度', arr.ndim)"
   ]
  },
  {
   "cell_type": "code",
   "execution_count": 5,
   "metadata": {},
   "outputs": [
    {
     "name": "stdout",
     "output_type": "stream",
     "text": [
      "[[1 2 3]\n",
      " [4 5 6]]\n",
      "维度 2\n"
     ]
    }
   ],
   "source": [
    "arr = np.array([[1, 2, 3], [4, 5, 6]])\n",
    "print(arr)\n",
    "print('维度', arr.ndim)"
   ]
  },
  {
   "cell_type": "markdown",
   "metadata": {},
   "source": [
    "### 同质性"
   ]
  },
  {
   "cell_type": "code",
   "execution_count": 6,
   "metadata": {},
   "outputs": [
    {
     "name": "stdout",
     "output_type": "stream",
     "text": [
      "['1' 'hello']\n"
     ]
    }
   ],
   "source": [
    "arr = np.array([1, 'hello'])\n",
    "print(arr)\n",
    "# 1 是int，但因为有同质性，所以int转为字符串\n",
    "# 不同的数据类型会强制转换为相同数据类型"
   ]
  },
  {
   "cell_type": "code",
   "execution_count": 7,
   "metadata": {},
   "outputs": [
    {
     "name": "stdout",
     "output_type": "stream",
     "text": [
      "[1.  2.5]\n"
     ]
    }
   ],
   "source": [
    "arr = np.array([1, 2.5])\n",
    "print(arr)\n"
   ]
  },
  {
   "cell_type": "markdown",
   "metadata": {},
   "source": [
    "## 2. ndarray属性"
   ]
  },
  {
   "cell_type": "code",
   "execution_count": 22,
   "metadata": {},
   "outputs": [
    {
     "name": "stdout",
     "output_type": "stream",
     "text": [
      "1\n",
      "数组性状 ()\n",
      "数组维度 0\n",
      "元素个数 1\n",
      "数据类型 int64\n",
      "元素的转制 1\n"
     ]
    }
   ],
   "source": [
    "arr = np.array(1)\n",
    "print(arr)\n",
    "print('数组性状', arr.shape) # 数组性状\n",
    "print('数组维度', arr.ndim)\n",
    "print('元素个数', arr.size)\n",
    "print('数据类型', arr.dtype)\n",
    "print('元素的转制', arr.T)"
   ]
  },
  {
   "cell_type": "code",
   "execution_count": 23,
   "metadata": {},
   "outputs": [
    {
     "name": "stdout",
     "output_type": "stream",
     "text": [
      "[1.  2.4 3. ]\n",
      "数组性状 (3,)\n",
      "数组唯独 1\n",
      "元素个数 3\n",
      "数据类型 float64\n",
      "元素的转制 [1.  2.4 3. ]\n"
     ]
    }
   ],
   "source": [
    "arr = np.array([1, 2.4, 3])\n",
    "print(arr)\n",
    "print('数组性状',arr.shape) # 数组性状\n",
    "print('数组唯独', arr.ndim)\n",
    "print('元素个数', arr.size)\n",
    "print('数据类型', arr.dtype)\n",
    "print('元素的转制', arr.T)"
   ]
  },
  {
   "cell_type": "code",
   "execution_count": 25,
   "metadata": {},
   "outputs": [
    {
     "name": "stdout",
     "output_type": "stream",
     "text": [
      "[[1 2 3]\n",
      " [4 5 6]]\n",
      "数组性状 (2, 3)\n",
      "数组维度 2\n",
      "元素个数 6\n",
      "数据类型 int64\n",
      "元素的转制 [[1 4]\n",
      " [2 5]\n",
      " [3 6]]\n"
     ]
    }
   ],
   "source": [
    "arr = np.array([[1, 2, 3],[4, 5, 6]])\n",
    "print(arr)\n",
    "print('数组性状', arr.shape) # 数组性状\n",
    "print('数组维度', arr.ndim)\n",
    "print('元素个数', arr.size)\n",
    "print('数据类型', arr.dtype)\n",
    "print('元素的转制', arr.T) # 二维的才有用 "
   ]
  },
  {
   "cell_type": "markdown",
   "metadata": {},
   "source": [
    "## 3.ndarry创建"
   ]
  },
  {
   "cell_type": "code",
   "execution_count": 27,
   "metadata": {},
   "outputs": [
    {
     "name": "stdout",
     "output_type": "stream",
     "text": [
      "1\n",
      "[4. 5. 6.]\n"
     ]
    }
   ],
   "source": [
    "# 基础创建方法\n",
    "list1 = [4, 5, 6]\n",
    "arr = np.array(list1, float) # 数据，dtype\n",
    "print(arr.ndim) # 属性后不带括号，带括号是命令、方法\n",
    "print(arr)"
   ]
  },
  {
   "cell_type": "code",
   "execution_count": 30,
   "metadata": {},
   "outputs": [
    {
     "name": "stdout",
     "output_type": "stream",
     "text": [
      "[4. 5. 6.]\n",
      "[8. 5. 6.]\n"
     ]
    }
   ],
   "source": [
    "# copy\n",
    "arr1 = np.copy(arr) # arr1元素跟原始数组相同，但不是一个数组\n",
    "print(arr1)\n",
    "arr1[0] = 8\n",
    "print(arr1)"
   ]
  },
  {
   "cell_type": "markdown",
   "metadata": {},
   "source": [
    "### 预定义形状\n",
    "\n",
    "全0 全1 未初始化 固定值"
   ]
  },
  {
   "cell_type": "markdown",
   "metadata": {},
   "source": [
    "#### 全0\n"
   ]
  },
  {
   "cell_type": "code",
   "execution_count": 34,
   "metadata": {},
   "outputs": [
    {
     "name": "stdout",
     "output_type": "stream",
     "text": [
      "[[0 0 0]\n",
      " [0 0 0]]\n",
      "int64\n"
     ]
    }
   ],
   "source": [
    "arr = np.zeros((2, 3), dtype=int)\n",
    "print(arr)\n",
    "print(arr.dtype)"
   ]
  },
  {
   "cell_type": "code",
   "execution_count": 39,
   "metadata": {},
   "outputs": [
    {
     "name": "stdout",
     "output_type": "stream",
     "text": [
      "[0 0 0]\n"
     ]
    }
   ],
   "source": [
    "arr = np.zeros((3, ), dtype=int)\n",
    "print(arr)"
   ]
  },
  {
   "cell_type": "markdown",
   "metadata": {},
   "source": [
    "#### 全1"
   ]
  },
  {
   "cell_type": "code",
   "execution_count": 40,
   "metadata": {},
   "outputs": [
    {
     "name": "stdout",
     "output_type": "stream",
     "text": [
      "[[1 1 1 1 1 1 1 1]\n",
      " [1 1 1 1 1 1 1 1]\n",
      " [1 1 1 1 1 1 1 1]\n",
      " [1 1 1 1 1 1 1 1]\n",
      " [1 1 1 1 1 1 1 1]]\n"
     ]
    }
   ],
   "source": [
    "arr = np.ones((5, 8), dtype=int)\n",
    "print(arr)"
   ]
  },
  {
   "cell_type": "markdown",
   "metadata": {},
   "source": [
    "#### 未初始化"
   ]
  },
  {
   "cell_type": "code",
   "execution_count": 46,
   "metadata": {},
   "outputs": [
    {
     "name": "stdout",
     "output_type": "stream",
     "text": [
      "[[0. 0. 0. 0. 0. 0. 0. 0.]\n",
      " [0. 0. 0. 0. 0. 0. 0. 0.]]\n"
     ]
    }
   ],
   "source": [
    "arr = np.empty((2, 8)) # 比ones更快，不太推荐\n",
    "print(arr)"
   ]
  },
  {
   "cell_type": "markdown",
   "metadata": {},
   "source": [
    "#### 填充"
   ]
  },
  {
   "cell_type": "code",
   "execution_count": 50,
   "metadata": {},
   "outputs": [
    {
     "name": "stdout",
     "output_type": "stream",
     "text": [
      "[[57 57 57 57 57 57 57]\n",
      " [57 57 57 57 57 57 57]\n",
      " [57 57 57 57 57 57 57]\n",
      " [57 57 57 57 57 57 57]\n",
      " [57 57 57 57 57 57 57]]\n"
     ]
    }
   ],
   "source": [
    "arr = np.full((5, 7), 57)\n",
    "print(arr)"
   ]
  },
  {
   "cell_type": "markdown",
   "metadata": {},
   "source": [
    "#### like"
   ]
  },
  {
   "cell_type": "code",
   "execution_count": 54,
   "metadata": {},
   "outputs": [
    {
     "name": "stdout",
     "output_type": "stream",
     "text": [
      "zeros_like: [[0 0 0 0 0 0 0]\n",
      " [0 0 0 0 0 0 0]\n",
      " [0 0 0 0 0 0 0]\n",
      " [0 0 0 0 0 0 0]\n",
      " [0 0 0 0 0 0 0]]\n",
      "empty_like: [[0 0 0 0 0 0 0]\n",
      " [0 0 0 0 0 0 0]\n",
      " [0 0 0 0 0 0 0]\n",
      " [0 0 0 0 0 0 0]\n",
      " [0 0 0 0 0 0 0]]\n",
      "full_like: [[99 99 99 99 99 99 99]\n",
      " [99 99 99 99 99 99 99]\n",
      " [99 99 99 99 99 99 99]\n",
      " [99 99 99 99 99 99 99]\n",
      " [99 99 99 99 99 99 99]]\n"
     ]
    }
   ],
   "source": [
    "arr1 = np.zeros_like(arr) # 和arr的形状一样\n",
    "print('zeros_like:', arr1)\n",
    "arr2 = np.empty_like(arr) # 和arr的形状一样\n",
    "print('empty_like:', arr2)\n",
    "arr3 = np.full_like(arr, 99) # 和arr的形状一样\n",
    "print('full_like:', arr3)"
   ]
  },
  {
   "cell_type": "code",
   "execution_count": 55,
   "metadata": {},
   "outputs": [],
   "source": [
    "#### 等差数列"
   ]
  },
  {
   "cell_type": "code",
   "execution_count": 60,
   "metadata": {},
   "outputs": [
    {
     "name": "stdout",
     "output_type": "stream",
     "text": [
      "[ 2  4  6  8 10]\n"
     ]
    }
   ],
   "source": [
    "arr = np.arange(2, 11, 2) # start, end, step\n",
    "print(arr)"
   ]
  },
  {
   "cell_type": "code",
   "execution_count": 61,
   "metadata": {},
   "outputs": [],
   "source": [
    "#### 等间隔数列"
   ]
  },
  {
   "cell_type": "code",
   "execution_count": 65,
   "metadata": {},
   "outputs": [
    {
     "name": "stdout",
     "output_type": "stream",
     "text": [
      "[ 0.  5. 10.]\n"
     ]
    }
   ],
   "source": [
    "arr = np.linspace(0, 10, 3) # start, end, num\n",
    "print(arr)"
   ]
  },
  {
   "cell_type": "code",
   "execution_count": 67,
   "metadata": {},
   "outputs": [
    {
     "name": "stdout",
     "output_type": "stream",
     "text": [
      "[  0  25  50  75 100]\n",
      "[  0  25  50  75 100]\n"
     ]
    }
   ],
   "source": [
    "arr = np.linspace(0, 100, 5, dtype=int) # start, end, num\n",
    "print(arr)\n",
    "arr_r = np.arange(0, 101, 25)\n",
    "print(arr_r)"
   ]
  },
  {
   "cell_type": "code",
   "execution_count": 68,
   "metadata": {},
   "outputs": [],
   "source": [
    "# 对数间隔数列"
   ]
  },
  {
   "cell_type": "code",
   "execution_count": 69,
   "metadata": {},
   "outputs": [
    {
     "name": "stdout",
     "output_type": "stream",
     "text": [
      "[ 1.  4. 16.]\n"
     ]
    }
   ],
   "source": [
    "arr = np.logspace(0, 4, 3, base=2)\n",
    "print(arr)"
   ]
  },
  {
   "cell_type": "code",
   "execution_count": 70,
   "metadata": {},
   "outputs": [
    {
     "name": "stdout",
     "output_type": "stream",
     "text": [
      "[0. 2. 4.]\n"
     ]
    }
   ],
   "source": [
    "arr = np.linspace(0, 4, 3)\n",
    "print(arr)\n"
   ]
  }
 ],
 "metadata": {
  "kernelspec": {
   "display_name": "Python 3",
   "language": "python",
   "name": "python3"
  },
  "language_info": {
   "codemirror_mode": {
    "name": "ipython",
    "version": 3
   },
   "file_extension": ".py",
   "mimetype": "text/x-python",
   "name": "python",
   "nbconvert_exporter": "python",
   "pygments_lexer": "ipython3",
   "version": "3.11.6"
  }
 },
 "nbformat": 4,
 "nbformat_minor": 2
}
